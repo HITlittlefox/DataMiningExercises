{
 "cells": [
  {
   "cell_type": "markdown",
   "metadata": {
    "collapsed": false,
    "pycharm": {
     "name": "#%% md\n"
    }
   },
   "source": [
    "# 1. 带特征的数据,把数据都放到dict中,方便后面使用"
   ]
  },
  {
   "cell_type": "code",
   "execution_count": 8,
   "metadata": {
    "collapsed": false,
    "pycharm": {
     "name": "#%%\n"
    }
   },
   "outputs": [
    {
     "name": "stdout",
     "output_type": "stream",
     "text": [
      "dict_y:{0: 0, 1: 0, 2: 1, 3: 1, 4: 1, 5: 0, 6: 1, 7: 0, 8: 1, 9: 1, 10: 1, 11: 1, 12: 1, 13: 0}\n",
      "dict_x1:{0: 1, 1: 1, 2: 2, 3: 3, 4: 3, 5: 3, 6: 2, 7: 1, 8: 1, 9: 3, 10: 1, 11: 2, 12: 2, 13: 3}\n",
      "dict_x2:{0: 3, 1: 3, 2: 3, 3: 2, 4: 1, 5: 1, 6: 1, 7: 2, 8: 1, 9: 2, 10: 2, 11: 2, 12: 3, 13: 2}\n",
      "dict_x3:{0: 0, 1: 0, 2: 0, 3: 0, 4: 1, 5: 1, 6: 1, 7: 0, 8: 1, 9: 1, 10: 1, 11: 0, 12: 1, 13: 0}\n",
      "dict_x4:{0: 0, 1: 1, 2: 0, 3: 0, 4: 0, 5: 1, 6: 1, 7: 0, 8: 0, 9: 0, 10: 1, 11: 1, 12: 0, 13: 1}\n",
      "dict_set_y:{0: 1, 1: 0}\n",
      "dict_set_x1:{0: 1, 1: 2, 2: 3}\n",
      "dict_set_x2:{0: 1, 1: 2, 2: 3}\n",
      "dict_set_x3:{0: 0, 1: 1}\n",
      "dict_set_x4:{0: 0, 1: 1}\n",
      "[1, 2, 3]\n",
      "{0: 1, 1: 2, 2: 3}\n",
      "2 <class 'numpy.int32'>\n"
     ]
    }
   ],
   "source": [
    "import numpy as np\n",
    "\n",
    "# 朴素贝叶斯(5步:带特征的数据,计算先验概率,计算后验概率(条件概率),代入要分类的新品,根据y值分类)\n",
    "# y: 0:no;1:yes\n",
    "# age:x1: 1:<=30;2:31…40;3:>40\n",
    "# income:x2: 1:low;2:medium;3:high\n",
    "# student:x3: 0:no;1:yes\n",
    "# credit_rating:x4: 0:fair;1:excellent\n",
    "\n",
    "\n",
    "y  = [0, 0, 1, 1, 1, 0, 1, 0, 1, 1, 1, 1, 1, 0]\n",
    "x1 = [1, 1, 2, 3, 3, 3, 2, 1, 1, 3, 1, 2, 2, 3]\n",
    "x2 = [3, 3, 3, 2, 1, 1, 1, 2, 1, 2, 2, 2, 3, 2]\n",
    "x3 = [0, 0, 0, 0, 1, 1, 1, 0, 1, 1, 1, 0, 1, 0]\n",
    "x4 = [0, 1, 0, 0, 0, 1, 1, 0, 0, 0, 1, 1, 0, 1]\n",
    "\n",
    "\n",
    "arr2d = np.array([[0, 0, 1, 1, 1, 0, 1, 0, 1, 1, 1, 1, 1, 0],\n",
    "                  [1, 1, 2, 3, 3, 3, 2, 1, 1, 3, 1, 2, 2, 3],\n",
    "                  [3, 3, 3, 2, 1, 1, 1, 2, 1, 2, 2, 2, 3, 2],\n",
    "                  [0, 0, 0, 0, 1, 1, 1, 0, 1, 1, 1, 0, 1, 0],\n",
    "                  [0, 1, 0, 0, 0, 1, 1, 0, 0, 0, 1, 1, 0, 1]])  \n",
    "\n",
    "list_y = [n for n in range(0, len(arr2d[0]))]\n",
    "dict_y = dict(zip(list_y, list(arr2d[0])))\n",
    "print('dict_y:'+str(dict_y))\n",
    "\n",
    "list_x1 = [n for n in range(0, len(arr2d[1]))]\n",
    "dict_x1 = dict(zip(list_x1, list(arr2d[1])))\n",
    "print('dict_x1:'+str(dict_x1))\n",
    "\n",
    "list_x2 = [n for n in range(0, len(arr2d[2]))]\n",
    "dict_x2 = dict(zip(list_x2, list(arr2d[2])))\n",
    "print('dict_x2:'+str(dict_x2))\n",
    "\n",
    "list_x3 = [n for n in range(0, len(arr2d[3]))]\n",
    "dict_x3 = dict(zip(list_x3, list(arr2d[3])))\n",
    "print('dict_x3:'+str(dict_x3))\n",
    "\n",
    "list_x4 = [n for n in range(0, len(arr2d[4]))]\n",
    "dict_x4 = dict(zip(list_x4, list(arr2d[4])))\n",
    "print('dict_x4:'+str(dict_x4))\n",
    "\n",
    "\n",
    "list_set_y_sort=list(set(arr2d[0]))\n",
    "list_set_y_sort.sort(reverse = True)\n",
    "\n",
    "list_y = [n for n in range(0, len(arr2d[0]))]\n",
    "dict_set_y = dict(zip(list_y, list_set_y_sort))\n",
    "print('dict_set_y:'+str(dict_set_y))\n",
    "\n",
    "list_set_x1_sort=list(set(arr2d[1]))\n",
    "list_set_x1_sort.sort(reverse = False)\n",
    "list_x1 = [n for n in range(0, len(arr2d[1]))]\n",
    "dict_set_x1 = dict(zip(list_x1, list_set_x1_sort))\n",
    "print('dict_set_x1:'+str(dict_set_x1))\n",
    "\n",
    "list_set_x2_sort=list(set(arr2d[2]))\n",
    "list_set_x2_sort.sort(reverse = False)\n",
    "list_x2 = [n for n in range(0, len(set(arr2d[2])))]\n",
    "dict_set_x2 = dict(zip(list_x2,list_set_x2_sort))\n",
    "print('dict_set_x2:'+str(dict_set_x2))\n",
    "\n",
    "list_set_x3_sort=list(set(arr2d[3]))\n",
    "list_set_x3_sort.sort(reverse = False)\n",
    "list_x3 = [n for n in range(0, len(set(arr2d[3])))]\n",
    "dict_set_x3 = dict(zip(list_x3,list_set_x3_sort))\n",
    "print('dict_set_x3:'+str(dict_set_x3))\n",
    "\n",
    "list_set_x4_sort=list(set(arr2d[4]))\n",
    "list_set_x4_sort.sort(reverse = False)\n",
    "list_x4 = [n for n in range(0, len(set(arr2d[4])))]\n",
    "dict_set_x4 = dict(zip(list_x4,list_set_x4_sort))\n",
    "print('dict_set_x4:'+str(dict_set_x4))\n",
    "\n",
    "\n",
    "# print(dict_set_y[0])\n",
    "# print('1的key是'+str(get_dict_key(dict_set_x2, 'S')))\n",
    "\n",
    "特征值set=[x1,x2,x3,x4]\n",
    "\n",
    "print(list(dict_set_x2.values()))\n",
    "\n",
    "list_set_xi=[dict_set_x1,dict_set_x2,dict_set_x3,dict_set_x4]\n",
    "print(list_set_xi[0])\n",
    "print(list_set_xi[0][1],type(list_set_xi[0][1]))"
   ]
  },
  {
   "cell_type": "markdown",
   "metadata": {
    "collapsed": false,
    "pycharm": {
     "name": "#%% md\n"
    }
   },
   "source": [
    "# 2. 计算先验概率(自动)"
   ]
  },
  {
   "cell_type": "code",
   "execution_count": 9,
   "metadata": {
    "collapsed": false,
    "pycharm": {
     "name": "#%%\n"
    }
   },
   "outputs": [
    {
     "name": "stdout",
     "output_type": "stream",
     "text": [
      "[9, 5]\n",
      "P(y= yes)=先验概率[0]=9/14\n",
      "P(y= no )=先验概率[1]=5/14\n",
      "[Fraction(9, 14), Fraction(5, 14)]\n"
     ]
    }
   ],
   "source": [
    "from fractions import Fraction\n",
    "\n",
    "# def fit(y,x1,x2):\n",
    "先验概率 = [0]*len(dict_set_y)\n",
    "# print(先验概率[0])\n",
    "y_amount=[0]*len(dict_set_y)\n",
    "\n",
    "for i in range(0, len(dict_set_y)):\n",
    "    y_amount[i]=list(arr2d[0]).count(dict_set_y[i])\n",
    "\n",
    "for i in range(0, len(dict_set_y)):\n",
    "    先验概率[i]= Fraction(y_amount[i],len(arr2d[0]))\n",
    "\n",
    "# 先验概率[0] = Fraction(y_amount[0],len(y))\n",
    "# 先验概率[1] = Fraction(y_amount[1],len(y))\n",
    "\n",
    "# 先验概率[1] = y2_amount/len(y)\n",
    "print(y_amount)\n",
    "print('P(y= yes)=先验概率[0]='+str(先验概率[0]))\n",
    "print('P(y= no )=先验概率[1]='+str(先验概率[1]))\n",
    "\n",
    "print(先验概率)\n",
    "# todo:有序集合对 1 -1 自动计算先验概率\n"
   ]
  },
  {
   "cell_type": "markdown",
   "metadata": {
    "collapsed": false,
    "pycharm": {
     "name": "#%% md\n"
    }
   },
   "source": [
    "# 3. 计算后验概率(提前声明+初始化能放后验概率的数组)"
   ]
  },
  {
   "cell_type": "code",
   "execution_count": 10,
   "metadata": {
    "collapsed": false,
    "pycharm": {
     "name": "#%%\n"
    }
   },
   "outputs": [
    {
     "name": "stdout",
     "output_type": "stream",
     "text": [
      "[[[0, 0, 0], [0, 0, 0], [0, 0], [0, 0]], [[0, 0, 0], [0, 0, 0], [0, 0], [0, 0]]] <class 'list'>\n",
      "[[[0, 0, 0], [0, 0, 0], [0, 0], [0, 0]], [[0, 0, 0], [0, 0, 0], [0, 0], [0, 0]]] <class 'list'>\n"
     ]
    }
   ],
   "source": [
    "# i是条件y的索引 0\n",
    "# xiiyi[i][j][k],:1,1:-1\n",
    "# j是看第几个特征值 0:x1,1:x2,2:x3,3:x4\n",
    "# k是该特征值的取值索引\n",
    "# dict_set_x1:{0: 1, 1: 2, 2: 3}\n",
    "# dict_set_x2:{0: 1, 1: 2, 2: 3}\n",
    "# dict_set_x3:{0: 0, 1: 1}\n",
    "# dict_set_x4:{0: 0, 1: 1}\n",
    "\n",
    "后验概率x1iy1 = [0]*len(set(x1))  # p(x1=?|y=1)\n",
    "后验概率x2iy1 = [0]*len(set(x2))  # p(x2=?|y=1)\n",
    "后验概率x3iy1 = [0]*len(set(x3))  # p(x3=?|y=1)\n",
    "后验概率x4iy1 = [0]*len(set(x4))  # p(x4=?|y=1)\n",
    "\n",
    "后验概率x1iy2 = [0]*len(set(x1))   # p(x1=?|y=-1)\n",
    "后验概率x2iy2 = [0]*len(set(x2))   # p(x2=?|y=-1)\n",
    "后验概率x3iy2 = [0]*len(set(x3))   # p(x2=?|y=-1)\n",
    "后验概率x4iy2 = [0]*len(set(x4))   # p(x2=?|y=-1)\n",
    "\n",
    "后验概率xiiy1=[后验概率x1iy1,后验概率x2iy1,后验概率x3iy1,后验概率x4iy1] #2*3\n",
    "后验概率xiiy2=[后验概率x1iy2,后验概率x2iy2,后验概率x3iy2,后验概率x4iy2]\n",
    "\n",
    "后验概率xiiyi=[后验概率xiiy1,后验概率xiiy2] #2*(2*3)\n",
    "\n",
    "print(后验概率xiiyi,type(后验概率xiiyi))\n",
    "\n",
    "print(后验概率xiiyi,type(后验概率xiiyi))\n"
   ]
  },
  {
   "cell_type": "markdown",
   "metadata": {
    "collapsed": false,
    "pycharm": {
     "name": "#%% md\n"
    }
   },
   "source": [
    "# 3. 计算后验概率(计算并赋值)"
   ]
  },
  {
   "cell_type": "code",
   "execution_count": 11,
   "metadata": {
    "collapsed": false,
    "pycharm": {
     "name": "#%%\n"
    }
   },
   "outputs": [
    {
     "name": "stdout",
     "output_type": "stream",
     "text": [
      "[[[2, 4, 3], [3, 4, 2], [3, 6], [6, 3]], [[3, 0, 2], [1, 2, 2], [4, 1], [2, 3]]]\n",
      "[[[Fraction(2, 9), Fraction(4, 9), Fraction(1, 3)], [Fraction(1, 3), Fraction(4, 9), Fraction(2, 5)], [Fraction(1, 3), Fraction(2, 3)], [Fraction(2, 3), Fraction(1, 3)]], [[Fraction(3, 5), Fraction(0, 1), Fraction(2, 9)], [Fraction(1, 5), Fraction(2, 5), Fraction(2, 5)], [Fraction(4, 5), Fraction(1, 5)], [Fraction(2, 5), Fraction(3, 5)]]]\n"
     ]
    }
   ],
   "source": [
    "# 求p(x1=?|y=1)\n",
    "# 求p(x2=?|y=1)\n",
    "# 求p(x3=?|y=1)\n",
    "# 求p(x4=?|y=1)\n",
    "# 求p(x1=?|y=-1)\n",
    "# 求p(x2=?|y=-1)\n",
    "# 求p(x3=?|y=-1)\n",
    "# 求p(x4=?|y=-1)\n",
    "\n",
    "n = 0 # [][j][]个数\n",
    "\n",
    "for o in range(0, len(dict_set_y)) :\n",
    "    for n in range(0, len(特征值set)) :\n",
    "        m = 0 #　[][][k]个数\n",
    "\n",
    "        for k in list_set_xi[n]:\n",
    "            for i in range(0, len(arr2d[1])):\n",
    "                # if(arr2d[n+1][i] == str(list_set_xi[n][k]) and arr2d[0][i] == dict_set_y[o]):  # x2=k y=1\n",
    "                if(arr2d[n+1][i] == list_set_xi[n][k] and arr2d[0][i] == dict_set_y[o]):  # x2=k y=1\n",
    "                    后验概率xiiyi[o][n][m] = 后验概率xiiyi[o][n][m]+1\n",
    "            m = m+1\n",
    "        n = n+1 # [][j][]个数\n",
    "\n",
    "print(后验概率xiiyi)\n",
    "\n",
    "#使用循环计算后验概率\n",
    "for y in range(0,len(dict_set_y)):\n",
    "    for xi in range(0,len(特征值set)):\n",
    "        for xii in range(0,2):\n",
    "            # print(xii)\n",
    "            后验概率xiiyi[y][xi][xii] = Fraction(后验概率xiiyi[y][xi][xii], y_amount[y])\n",
    "\n",
    "# 因为特征值数量不同x1和x2特征值数量为2，x3和x4特征值数量为3，单独计算一下\n",
    "# print(后验概率xiiyi[0][0][2])\n",
    "后验概率xiiyi[0][0][2]=Fraction(后验概率xiiyi[0][0][2], y_amount[0])\n",
    "# print(后验概率xiiyi[0][1][2])\n",
    "后验概率xiiyi[0][1][2]=Fraction(后验概率xiiyi[0][1][2], y_amount[1])\n",
    "# print(后验概率xiiyi[1][0][2])\n",
    "后验概率xiiyi[1][0][2]=Fraction(后验概率xiiyi[1][0][2], y_amount[0])\n",
    "# print(后验概率xiiyi[1][1][2])\n",
    "后验概率xiiyi[1][1][2]=Fraction(后验概率xiiyi[1][1][2], y_amount[1])\n",
    "\n",
    "print(后验概率xiiyi)\n",
    "\n"
   ]
  },
  {
   "cell_type": "markdown",
   "metadata": {
    "collapsed": false,
    "pycharm": {
     "name": "#%% md\n"
    }
   },
   "source": [
    "# 4. 代入要分类的新品\n",
    "## 举例：X\n",
    "age<=30    x1=1\n",
    "income=medium  x2=2\n",
    "student=yes    x3=1\n",
    "Credit_rating=Fair x4=0"
   ]
  },
  {
   "cell_type": "code",
   "execution_count": 12,
   "metadata": {
    "pycharm": {
     "name": "#%%\n"
    }
   },
   "outputs": [
    {
     "name": "stdout",
     "output_type": "stream",
     "text": [
      "P(X|buys_computer=yes)*P(buys_computer=yes) = 16/567\n",
      "P(X|buys_computer=no )*P(buys_computer=no ) = 6/875\n",
      "这个给定x属于(\"buys_computer=yes)\n"
     ]
    }
   ],
   "source": [
    "# i是条件y的索引 0\n",
    "# xiiyi[i][j][k],:1,1:-1\n",
    "# j是看第几个特征值 0:x1,1:x2,2:x3,3:x4\n",
    "# k是该特征值的取值索引\n",
    "# dict_set_x1:{0: 1, 1: 2, 2: 3}\n",
    "# dict_set_x2:{0: 1, 1: 2, 2: 3}\n",
    "# dict_set_x3:{0: 0, 1: 1}\n",
    "# dict_set_x4:{0: 0, 1: 1}\n",
    "\n",
    "# 举例：X\n",
    "# age<=30    x1=1\n",
    "# print(后验概率xiiyi[0][0][0])\n",
    "# print(后验概率xiiyi[1][0][0])\n",
    "#\n",
    "# income=medium  x2=2\n",
    "# print(后验概率xiiyi[0][1][1])\n",
    "# print(后验概率xiiyi[1][1][1])\n",
    "#\n",
    "# student=yes    x3=1\n",
    "# print(后验概率xiiyi[0][2][1])\n",
    "# print(后验概率xiiyi[1][2][1])\n",
    "#\n",
    "# Credit_rating=Fair x4=0\n",
    "# print(后验概率xiiyi[0][3][0])\n",
    "# print(后验概率xiiyi[1][3][0])\n",
    "\n",
    "#P(y=1)P(x1=1|y=1)P(x2=2|y=1)P(x3=1|y=1)P(x4=0|y=1)\n",
    "y1_possiblity=先验概率[0]*后验概率xiiyi[0][0][0]*后验概率xiiyi[0][1][1]*后验概率xiiyi[0][2][1]*后验概率xiiyi[0][3][0]\n",
    "print('P(X|buys_computer=yes)*P(buys_computer=yes) = '+str(y1_possiblity))\n",
    "\n",
    "y2_possiblity=先验概率[1]*后验概率xiiyi[1][0][0]*后验概率xiiyi[1][1][1]*后验概率xiiyi[1][2][1]*后验概率xiiyi[1][3][0]\n",
    "print('P(X|buys_computer=no )*P(buys_computer=no ) = '+str(y2_possiblity))\n",
    "\n",
    "if y1_possiblity>y2_possiblity:\n",
    "    print('这个给定x属于(\"buys_computer=yes)')\n",
    "else:\n",
    "    print('这个给定x属于(\"buys_computer=no )')"
   ]
  },
  {
   "cell_type": "markdown",
   "metadata": {
    "collapsed": false,
    "pycharm": {
     "name": "#%% md\n"
    }
   },
   "source": [
    "# 5. 根据y值分类"
   ]
  },
  {
   "cell_type": "code",
   "execution_count": null,
   "metadata": {
    "collapsed": false,
    "pycharm": {
     "name": "#%%\n"
    }
   },
   "outputs": [],
   "source": []
  },
  {
   "cell_type": "code",
   "execution_count": 13,
   "metadata": {
    "collapsed": false,
    "pycharm": {
     "name": "#%%\n"
    }
   },
   "outputs": [
    {
     "name": "stdout",
     "output_type": "stream",
     "text": [
      "这个给定x属于(\"buys_computer=no )\n",
      "这个给定x属于(\"buys_computer=no )\n",
      "这个给定x属于(\"buys_computer=no )\n",
      "这个给定x属于(\"buys_computer=yes)\n",
      "这个给定x属于(\"buys_computer=no )\n",
      "=================\n",
      "准确正确率为2/5\n",
      "=================\n"
     ]
    }
   ],
   "source": [
    "# 3140,medium,yes,fair,yes\n",
    "test1_possiblity_y1=先验概率[0]*后验概率xiiyi[0][0][1]*后验概率xiiyi[0][1][1]*后验概率xiiyi[0][2][1]*后验概率xiiyi[0][3][0]\n",
    "test1_possiblity_y2=先验概率[0]*后验概率xiiyi[0][0][1]*后验概率xiiyi[0][1][1]*后验概率xiiyi[0][2][1]*后验概率xiiyi[0][3][0]\n",
    "if test1_possiblity_y1>test1_possiblity_y2:\n",
    "    print('这个给定x属于(\"buys_computer=yes)')\n",
    "else:\n",
    "    print('这个给定x属于(\"buys_computer=no )')\n",
    "# 3140,high,no,excellent,yes\n",
    "test1_possiblity_y1=先验概率[0]*后验概率xiiyi[0][0][1]*后验概率xiiyi[0][1][2]*后验概率xiiyi[0][2][0]*后验概率xiiyi[0][3][1]\n",
    "test1_possiblity_y2=先验概率[0]*后验概率xiiyi[0][0][1]*后验概率xiiyi[0][1][2]*后验概率xiiyi[0][2][0]*后验概率xiiyi[0][3][1]\n",
    "if test1_possiblity_y1>test1_possiblity_y2:\n",
    "    print('这个给定x属于(\"buys_computer=yes)')\n",
    "else:\n",
    "    print('这个给定x属于(\"buys_computer=no )')\n",
    "\n",
    "# 3140,low,no,excellent,yes\n",
    "test1_possiblity_y1=先验概率[0]*后验概率xiiyi[0][0][1]*后验概率xiiyi[0][1][0]*后验概率xiiyi[0][2][0]*后验概率xiiyi[0][3][1]\n",
    "test1_possiblity_y2=先验概率[0]*后验概率xiiyi[0][0][1]*后验概率xiiyi[0][1][0]*后验概率xiiyi[0][2][0]*后验概率xiiyi[0][3][1]\n",
    "if test1_possiblity_y1>test1_possiblity_y2:\n",
    "    print('这个给定x属于(\"buys_computer=yes)')\n",
    "else:\n",
    "    print('这个给定x属于(\"buys_computer=no )')\n",
    "# 40,low,yes,excellent,yes\n",
    "test1_possiblity_y1=先验概率[0]*后验概率xiiyi[0][0][2]*后验概率xiiyi[0][1][0]*后验概率xiiyi[0][2][1]*后验概率xiiyi[0][3][1]\n",
    "test1_possiblity_y2=先验概率[0]*后验概率xiiyi[0][0][2]*后验概率xiiyi[0][1][0]*后验概率xiiyi[0][2][0]*后验概率xiiyi[0][3][1]\n",
    "if test1_possiblity_y1>test1_possiblity_y2:\n",
    "    print('这个给定x属于(\"buys_computer=yes)')\n",
    "else:\n",
    "    print('这个给定x属于(\"buys_computer=no )')\n",
    "# 40,high,no,fair,no\n",
    "test1_possiblity_y1=先验概率[0]*后验概率xiiyi[0][0][2]*后验概率xiiyi[0][1][2]*后验概率xiiyi[0][2][0]*后验概率xiiyi[0][3][0]\n",
    "test1_possiblity_y2=先验概率[0]*后验概率xiiyi[0][0][2]*后验概率xiiyi[0][1][2]*后验概率xiiyi[0][2][0]*后验概率xiiyi[0][3][0]\n",
    "if test1_possiblity_y1>test1_possiblity_y2:\n",
    "    print('这个给定x属于(\"buys_computer=yes)')\n",
    "else:\n",
    "    print('这个给定x属于(\"buys_computer=no )')\n",
    "# 采用后5个数据来计算准确性\n",
    "\n",
    "print(\"=================\")\n",
    "print(\"准确正确率为2/5\")\n",
    "print(\"=================\")\n"
   ]
  }
 ],
 "metadata": {
  "interpreter": {
   "hash": "e49990abf1690b5df77a203b898cc98e5cc37dac3a83ff32fc7baac03298ca9f"
  },
  "kernelspec": {
   "display_name": "Python 3.9.12 ('dm')",
   "language": "python",
   "name": "python3"
  },
  "language_info": {
   "codemirror_mode": {
    "name": "ipython",
    "version": 3
   },
   "file_extension": ".py",
   "mimetype": "text/x-python",
   "name": "python",
   "nbconvert_exporter": "python",
   "pygments_lexer": "ipython3",
   "version": "3.9.12"
  },
  "orig_nbformat": 4
 },
 "nbformat": 4,
 "nbformat_minor": 2
}
