{
 "cells": [
  {
   "cell_type": "code",
   "execution_count": null,
   "metadata": {
    "collapsed": true,
    "pycharm": {
     "name": "#%%\n"
    }
   },
   "outputs": [],
   "source": [
    "[['30','yes','no','fair','no'],\n",
    "['30','yes','no','excellent','no'],\n",
    "['3140','yes','no','fair','yes'],\n",
    "['40','yes','no','fair','yes'],\n",
    "['40','no','yes','fair','yes'],\n",
    "['40','no','yes','excellent','no'],\n",
    "['3140','no','yes','excellent','yes'],\n",
    "['30','yes','no','fair','no'],\n",
    "['30','no','yes','fair','yes'],\n",
    "['40','yes','yes','fair','yes'],\n",
    "['30','yes','yes','excellent','yes'],\n",
    "['3140','yes','no','excellent','yes'],\n",
    "['3140','yes','yes','fair','yes'],\n",
    "['40','yes','no','excellent','no'],\n",
    "['30','yes','no','fair','no'],\n",
    "['30','no','yes','excellent','yes'],\n",
    "['3140','yes','yes','fair','yes'],\n",
    "['3140','yes','no','excellent','yes'],\n",
    "['3140','no','no','excellent','yes'],\n",
    "['40','no','yes','excellent','yes'],\n",
    "['40','yes','no','fair','no']]"
   ]
  },
  {
   "cell_type": "code",
   "execution_count": null,
   "outputs": [],
   "source": [],
   "metadata": {
    "collapsed": false,
    "pycharm": {
     "name": "#%%\n"
    }
   }
  },
  {
   "cell_type": "code",
   "execution_count": null,
   "outputs": [],
   "source": [
    "    dataset = [['30', 'no', 'no', 'just so-so', 'no'],\n",
    "               ['30', 'no', 'no', 'good', 'no'],\n",
    "               ['30', 'yes', 'no', 'good', 'yes'],\n",
    "               ['30', 'yes', 'yes', 'just so-so', 'yes'],\n",
    "               ['30', 'no', 'no', 'just so-so', 'no'],\n",
    "               ['3040', 'no', 'no', 'just so-so', 'no'],\n",
    "               ['3040', 'no', 'no', 'good', 'no'],\n",
    "               ['3040', 'yes', 'yes', 'good', 'yes'],\n",
    "               ['3040', 'no', 'yes', 'great', 'yes'],\n",
    "               ['3040', 'no', 'yes', 'great', 'yes'],\n",
    "               ['40', 'no', 'yes', 'great', 'yes'],\n",
    "               ['40', 'no', 'yes', 'good', 'yes'],\n",
    "               ['40', 'yes', 'no', 'good', 'yes'],\n",
    "               ['40', 'yes', 'no', 'great', 'yes'],\n",
    "               ['40', 'no', 'no', 'just so-so', 'no']]"
   ],
   "metadata": {
    "collapsed": false,
    "pycharm": {
     "name": "#%%\n"
    }
   }
  }
 ],
 "metadata": {
  "kernelspec": {
   "display_name": "Python 3",
   "language": "python",
   "name": "python3"
  },
  "language_info": {
   "codemirror_mode": {
    "name": "ipython",
    "version": 2
   },
   "file_extension": ".py",
   "mimetype": "text/x-python",
   "name": "python",
   "nbconvert_exporter": "python",
   "pygments_lexer": "ipython2",
   "version": "2.7.6"
  }
 },
 "nbformat": 4,
 "nbformat_minor": 0
}