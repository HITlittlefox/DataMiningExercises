{
 "cells": [
  {
   "cell_type": "code",
   "execution_count": 40,
   "metadata": {
    "collapsed": false,
    "pycharm": {
     "name": "#%%\n"
    }
   },
   "outputs": [
    {
     "name": "stdout",
     "output_type": "stream",
     "text": [
      "[[0.12 1.   0.99 0.34 0.31 0.25 0.  ]\n",
      " [1.   0.   0.29 0.   0.03 0.01 0.  ]\n",
      " [0.35 0.   1.   0.36 0.47 0.47 0.03]\n",
      " [0.   0.   0.98 0.18 0.19 0.18 0.01]\n",
      " [0.55 0.   0.84 0.1  0.05 0.06 0.  ]\n",
      " [0.   0.   1.   0.14 0.08 0.09 0.  ]\n",
      " [0.35 1.   0.98 0.21 0.12 0.11 0.  ]\n",
      " [0.07 0.   0.53 0.11 0.02 0.01 0.25]\n",
      " [0.   0.   0.4  0.05 0.01 0.01 0.07]\n",
      " [0.07 1.   0.71 0.19 0.08 0.09 0.1 ]\n",
      " [0.   0.   0.98 0.22 0.14 0.19 0.  ]\n",
      " [0.12 0.   0.79 0.04 0.04 0.04 0.02]\n",
      " [0.   0.   0.96 0.17 0.44 0.1  0.  ]\n",
      " [0.03 0.   0.76 0.05 0.09 0.04 0.08]\n",
      " [0.22 1.   0.95 0.19 0.15 0.09 0.01]\n",
      " [0.62 0.   1.   0.28 0.22 0.21 1.  ]\n",
      " [0.18 1.   1.   0.27 0.21 0.22 0.  ]\n",
      " [0.45 0.   1.   0.16 0.15 0.15 0.04]\n",
      " [0.17 0.   0.99 0.09 0.13 0.1  0.04]\n",
      " [0.   0.   0.99 0.19 0.16 0.14 0.  ]\n",
      " [0.02 1.   0.91 0.16 0.11 0.05 0.02]\n",
      " [0.05 1.   0.89 0.37 0.14 0.1  0.2 ]\n",
      " [0.57 1.   1.   1.   1.   1.   0.  ]\n",
      " [0.33 0.   0.11 0.   0.   0.   0.  ]\n",
      " [0.22 1.   0.66 0.94 0.07 0.04 0.02]\n",
      " [0.02 0.   0.46 0.04 0.08 0.02 0.  ]\n",
      " [0.32 1.   0.   0.04 0.   0.   0.  ]\n",
      " [0.12 0.   0.72 0.01 0.02 0.02 0.  ]]\n",
      "['2G' '2G' '3G' '3G' '2G' '2G' '3G' '2G' '3G' '3G' '3G' '2G' '3G' '2G'\n",
      " '3G' '3G' '2G' '3G' '3G' '3G' '3G' '2G' '2G' '2G' '2G' '2G' '2G' '?']\n"
     ]
    }
   ],
   "source": [
    "import numpy as np\n",
    "import pandas as pd\n",
    "from sklearn.naive_bayes import GaussianNB\n",
    "\n",
    "data = pd.read_csv(r\"C:\\Users\\96361\\iCloudDrive\\数据挖掘实践-胡仕成\\A\\continuousData\\Sampledata-continuous.CSV\",encoding='GBK')\n",
    "\n",
    "X_train=data.iloc[:,:7].to_numpy()\n",
    "y_train=data.iloc[:,7].to_numpy()\n",
    "print(X_train)\n",
    "print(y_train)"
   ]
  },
  {
   "cell_type": "code",
   "execution_count": 41,
   "metadata": {},
   "outputs": [
    {
     "name": "stdout",
     "output_type": "stream",
     "text": [
      "[[0.12 1.   0.99 0.34 0.31 0.25 0.  ]\n",
      " [1.   0.   0.29 0.   0.03 0.01 0.  ]\n",
      " [0.35 0.   1.   0.36 0.47 0.47 0.03]\n",
      " [0.   0.   0.98 0.18 0.19 0.18 0.01]\n",
      " [0.55 0.   0.84 0.1  0.05 0.06 0.  ]\n",
      " [0.   0.   1.   0.14 0.08 0.09 0.  ]\n",
      " [0.35 1.   0.98 0.21 0.12 0.11 0.  ]\n",
      " [0.07 0.   0.53 0.11 0.02 0.01 0.25]\n",
      " [0.   0.   0.4  0.05 0.01 0.01 0.07]\n",
      " [0.07 1.   0.71 0.19 0.08 0.09 0.1 ]\n",
      " [0.   0.   0.98 0.22 0.14 0.19 0.  ]\n",
      " [0.12 0.   0.79 0.04 0.04 0.04 0.02]\n",
      " [0.   0.   0.96 0.17 0.44 0.1  0.  ]\n",
      " [0.03 0.   0.76 0.05 0.09 0.04 0.08]\n",
      " [0.22 1.   0.95 0.19 0.15 0.09 0.01]\n",
      " [0.62 0.   1.   0.28 0.22 0.21 1.  ]\n",
      " [0.18 1.   1.   0.27 0.21 0.22 0.  ]\n",
      " [0.45 0.   1.   0.16 0.15 0.15 0.04]\n",
      " [0.17 0.   0.99 0.09 0.13 0.1  0.04]\n",
      " [0.   0.   0.99 0.19 0.16 0.14 0.  ]\n",
      " [0.02 1.   0.91 0.16 0.11 0.05 0.02]\n",
      " [0.05 1.   0.89 0.37 0.14 0.1  0.2 ]\n",
      " [0.57 1.   1.   1.   1.   1.   0.  ]\n",
      " [0.33 0.   0.11 0.   0.   0.   0.  ]\n",
      " [0.22 1.   0.66 0.94 0.07 0.04 0.02]\n",
      " [0.02 0.   0.46 0.04 0.08 0.02 0.  ]\n",
      " [0.32 1.   0.   0.04 0.   0.   0.  ]\n",
      " [0.12 0.   0.72 0.01 0.02 0.02 0.  ]]\n",
      "[[0.07 1.   0.71 0.19 0.08 0.09 0.1 ]\n",
      " [0.07 0.   0.53 0.11 0.02 0.01 0.25]\n",
      " [0.17 0.   0.99 0.09 0.13 0.1  0.04]\n",
      " [0.18 1.   1.   0.27 0.21 0.22 0.  ]\n",
      " [1.   0.   0.29 0.   0.03 0.01 0.  ]\n",
      " [0.57 1.   1.   1.   1.   1.   0.  ]\n",
      " [0.12 0.   0.72 0.01 0.02 0.02 0.  ]\n",
      " [0.22 1.   0.66 0.94 0.07 0.04 0.02]\n",
      " [0.   0.   0.96 0.17 0.44 0.1  0.  ]]\n"
     ]
    }
   ],
   "source": [
    "from sklearn.model_selection import train_test_split as TTS\n",
    "\n",
    "Xtrain, Xtest, Ytrain, Ytest = TTS(X_train, y_train, test_size=0.3, random_state=420)\n",
    "Xtest_extra = [[0.12,\t0, 0.72,\t0.01, 0.02,\t0.02,\t0]]\n",
    "Ytest_extra = [['2G']]\n",
    "print(X_train)\n",
    "print(Xtest)"
   ]
  },
  {
   "cell_type": "code",
   "execution_count": 42,
   "metadata": {
    "collapsed": true,
    "pycharm": {
     "name": "#%%\n"
    }
   },
   "outputs": [
    {
     "name": "stderr",
     "output_type": "stream",
     "text": [
      "c:\\ProgramData\\Anaconda3\\envs\\dm\\lib\\site-packages\\sklearn\\neural_network\\_multilayer_perceptron.py:692: ConvergenceWarning: Stochastic Optimizer: Maximum iterations (200) reached and the optimization hasn't converged yet.\n",
      "  warnings.warn(\n"
     ]
    }
   ],
   "source": [
    "from sklearn.neural_network import MLPClassifier as DNN\n",
    "from sklearn.model_selection import cross_val_score as cv\n",
    "from sklearn.tree import DecisionTreeClassifier as DTC\n",
    "from time import time\n",
    "import datetime\n",
    "\n",
    "dnn = DNN(hidden_layer_sizes=(100,), random_state=420).fit(Xtrain, Ytrain)\n"
   ]
  },
  {
   "cell_type": "code",
   "execution_count": 43,
   "metadata": {},
   "outputs": [
    {
     "name": "stdout",
     "output_type": "stream",
     "text": [
      "==========================================\n",
      "准确率为： 0.5555555555555556\n",
      "==========================================\n",
      "==========================================\n",
      "测试数据[0.12,0, 0.72,0.01,0.02,0.02,0]\n",
      "分类结果CUSTOMER_TYPE:2G\n",
      "==========================================\n"
     ]
    }
   ],
   "source": [
    "print(\"==========================================\")\n",
    "print(\"准确率为：\", dnn.score(Xtest, Ytest))\n",
    "\n",
    "\n",
    "print(\"==========================================\")\n",
    "\n",
    "print(\"==========================================\")\n",
    "print(\"测试数据[0.12,0, 0.72,0.01,0.02,0.02,0]\")\n",
    "if (dnn.score(Xtest_extra, Ytest_extra) == 1.0):\n",
    "    print(\"分类结果CUSTOMER_TYPE:2G\")\n",
    "    # 0:yes 1:no\n",
    "else:\n",
    "    print(\"分类结果CUSTOMER_TYPE:3G\")\n",
    "print(\"==========================================\")\n"
   ]
  }
 ],
 "metadata": {
  "kernelspec": {
   "display_name": "Python 3.9.12 ('dm')",
   "language": "python",
   "name": "python3"
  },
  "language_info": {
   "codemirror_mode": {
    "name": "ipython",
    "version": 3
   },
   "file_extension": ".py",
   "mimetype": "text/x-python",
   "name": "python",
   "nbconvert_exporter": "python",
   "pygments_lexer": "ipython3",
   "version": "3.9.12"
  },
  "vscode": {
   "interpreter": {
    "hash": "e49990abf1690b5df77a203b898cc98e5cc37dac3a83ff32fc7baac03298ca9f"
   }
  }
 },
 "nbformat": 4,
 "nbformat_minor": 0
}
