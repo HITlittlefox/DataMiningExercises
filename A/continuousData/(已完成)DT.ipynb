{
 "cells": [
  {
   "cell_type": "code",
   "execution_count": 36,
   "metadata": {
    "collapsed": false,
    "pycharm": {
     "name": "#%%\n"
    }
   },
   "outputs": [
    {
     "name": "stdout",
     "output_type": "stream",
     "text": [
      "0     1\n",
      "1     1\n",
      "2     0\n",
      "3     0\n",
      "4     1\n",
      "5     1\n",
      "6     0\n",
      "7     1\n",
      "8     0\n",
      "9     0\n",
      "10    0\n",
      "11    1\n",
      "12    0\n",
      "13    1\n",
      "14    0\n",
      "15    0\n",
      "16    1\n",
      "17    0\n",
      "18    0\n",
      "19    0\n",
      "20    0\n",
      "21    1\n",
      "22    1\n",
      "23    1\n",
      "24    1\n",
      "25    1\n",
      "26    1\n",
      "27    0\n",
      "Name: CUSTOMER_TYPE, dtype: int32\n"
     ]
    },
    {
     "data": {
      "text/html": [
       "<div>\n",
       "<style scoped>\n",
       "    .dataframe tbody tr th:only-of-type {\n",
       "        vertical-align: middle;\n",
       "    }\n",
       "\n",
       "    .dataframe tbody tr th {\n",
       "        vertical-align: top;\n",
       "    }\n",
       "\n",
       "    .dataframe thead th {\n",
       "        text-align: right;\n",
       "    }\n",
       "</style>\n",
       "<table border=\"1\" class=\"dataframe\">\n",
       "  <thead>\n",
       "    <tr style=\"text-align: right;\">\n",
       "      <th></th>\n",
       "      <th>HS_AGE</th>\n",
       "      <th>VAS_AR_FLAG</th>\n",
       "      <th>AVG_USAGE_DAYS</th>\n",
       "      <th>AVG_BILL_AMT</th>\n",
       "      <th>AVG_MINS</th>\n",
       "      <th>AVG_CALL</th>\n",
       "      <th>AVG_VAS_GAMES</th>\n",
       "      <th>CUSTOMER_TYPE</th>\n",
       "    </tr>\n",
       "  </thead>\n",
       "  <tbody>\n",
       "    <tr>\n",
       "      <th>0</th>\n",
       "      <td>0.12</td>\n",
       "      <td>1</td>\n",
       "      <td>0.99</td>\n",
       "      <td>0.34</td>\n",
       "      <td>0.31</td>\n",
       "      <td>0.25</td>\n",
       "      <td>0.00</td>\n",
       "      <td>1</td>\n",
       "    </tr>\n",
       "    <tr>\n",
       "      <th>1</th>\n",
       "      <td>1.00</td>\n",
       "      <td>0</td>\n",
       "      <td>0.29</td>\n",
       "      <td>0.00</td>\n",
       "      <td>0.03</td>\n",
       "      <td>0.01</td>\n",
       "      <td>0.00</td>\n",
       "      <td>1</td>\n",
       "    </tr>\n",
       "    <tr>\n",
       "      <th>2</th>\n",
       "      <td>0.35</td>\n",
       "      <td>0</td>\n",
       "      <td>1.00</td>\n",
       "      <td>0.36</td>\n",
       "      <td>0.47</td>\n",
       "      <td>0.47</td>\n",
       "      <td>0.03</td>\n",
       "      <td>0</td>\n",
       "    </tr>\n",
       "    <tr>\n",
       "      <th>3</th>\n",
       "      <td>0.00</td>\n",
       "      <td>0</td>\n",
       "      <td>0.98</td>\n",
       "      <td>0.18</td>\n",
       "      <td>0.19</td>\n",
       "      <td>0.18</td>\n",
       "      <td>0.01</td>\n",
       "      <td>0</td>\n",
       "    </tr>\n",
       "    <tr>\n",
       "      <th>4</th>\n",
       "      <td>0.55</td>\n",
       "      <td>0</td>\n",
       "      <td>0.84</td>\n",
       "      <td>0.10</td>\n",
       "      <td>0.05</td>\n",
       "      <td>0.06</td>\n",
       "      <td>0.00</td>\n",
       "      <td>1</td>\n",
       "    </tr>\n",
       "  </tbody>\n",
       "</table>\n",
       "</div>"
      ],
      "text/plain": [
       "   HS_AGE  VAS_AR_FLAG  AVG_USAGE_DAYS  AVG_BILL_AMT  AVG_MINS  AVG_CALL  \\\n",
       "0    0.12            1            0.99          0.34      0.31      0.25   \n",
       "1    1.00            0            0.29          0.00      0.03      0.01   \n",
       "2    0.35            0            1.00          0.36      0.47      0.47   \n",
       "3    0.00            0            0.98          0.18      0.19      0.18   \n",
       "4    0.55            0            0.84          0.10      0.05      0.06   \n",
       "\n",
       "   AVG_VAS_GAMES  CUSTOMER_TYPE  \n",
       "0           0.00              1  \n",
       "1           0.00              1  \n",
       "2           0.03              0  \n",
       "3           0.01              0  \n",
       "4           0.00              1  "
      ]
     },
     "execution_count": 36,
     "metadata": {},
     "output_type": "execute_result"
    }
   ],
   "source": [
    "import numpy as np\n",
    "import pandas as pd\n",
    "from sklearn import tree\n",
    "data = pd.read_csv(r\"C:\\Users\\96361\\iCloudDrive\\数据挖掘实践-胡仕成\\B\\continuousData\\Sampledata-continuous.CSV\",encoding='GBK')\n",
    "\n",
    "data[\"CUSTOMER_TYPE\"] = (data[\"CUSTOMER_TYPE\"]== \"2G\").astype(\"int\")\n",
    "print(data[\"CUSTOMER_TYPE\"])\n",
    "\n",
    "data.head()\n",
    "\n"
   ]
  },
  {
   "cell_type": "code",
   "execution_count": 37,
   "metadata": {},
   "outputs": [
    {
     "name": "stdout",
     "output_type": "stream",
     "text": [
      "<class 'pandas.core.frame.DataFrame'>\n",
      "RangeIndex: 28 entries, 0 to 27\n",
      "Data columns (total 8 columns):\n",
      " #   Column          Non-Null Count  Dtype  \n",
      "---  ------          --------------  -----  \n",
      " 0   HS_AGE          28 non-null     float64\n",
      " 1   VAS_AR_FLAG     28 non-null     int64  \n",
      " 2   AVG_USAGE_DAYS  28 non-null     float64\n",
      " 3   AVG_BILL_AMT    28 non-null     float64\n",
      " 4   AVG_MINS        28 non-null     float64\n",
      " 5   AVG_CALL        28 non-null     float64\n",
      " 6   AVG_VAS_GAMES   28 non-null     float64\n",
      " 7   CUSTOMER_TYPE   28 non-null     int32  \n",
      "dtypes: float64(6), int32(1), int64(1)\n",
      "memory usage: 1.8 KB\n"
     ]
    }
   ],
   "source": [
    "data.info()"
   ]
  },
  {
   "cell_type": "code",
   "execution_count": 38,
   "metadata": {
    "collapsed": false,
    "pycharm": {
     "name": "#%%\n"
    }
   },
   "outputs": [
    {
     "name": "stdout",
     "output_type": "stream",
     "text": [
      "Xtrain\n",
      "[[0.35 0.   1.   0.36 0.47 0.47 0.03]\n",
      " [0.12 0.   0.79 0.04 0.04 0.04 0.02]\n",
      " [0.05 1.   0.89 0.37 0.14 0.1  0.2 ]\n",
      " [0.02 1.   0.91 0.16 0.11 0.05 0.02]\n",
      " [0.   0.   1.   0.14 0.08 0.09 0.  ]\n",
      " [0.62 0.   1.   0.28 0.22 0.21 1.  ]\n",
      " [0.03 0.   0.76 0.05 0.09 0.04 0.08]\n",
      " [0.12 1.   0.99 0.34 0.31 0.25 0.  ]\n",
      " [0.55 0.   0.84 0.1  0.05 0.06 0.  ]\n",
      " [0.   0.   0.98 0.18 0.19 0.18 0.01]\n",
      " [0.02 0.   0.46 0.04 0.08 0.02 0.  ]\n",
      " [0.33 0.   0.11 0.   0.   0.   0.  ]\n",
      " [0.32 1.   0.   0.04 0.   0.   0.  ]\n",
      " [0.   0.   0.98 0.22 0.14 0.19 0.  ]\n",
      " [0.22 1.   0.95 0.19 0.15 0.09 0.01]\n",
      " [0.   0.   0.99 0.19 0.16 0.14 0.  ]\n",
      " [0.35 1.   0.98 0.21 0.12 0.11 0.  ]\n",
      " [0.   0.   0.4  0.05 0.01 0.01 0.07]\n",
      " [0.45 0.   1.   0.16 0.15 0.15 0.04]]\n",
      "Xtest\n",
      "[[0.07 1.   0.71 0.19 0.08 0.09 0.1 ]\n",
      " [0.07 0.   0.53 0.11 0.02 0.01 0.25]\n",
      " [0.17 0.   0.99 0.09 0.13 0.1  0.04]\n",
      " [0.18 1.   1.   0.27 0.21 0.22 0.  ]\n",
      " [1.   0.   0.29 0.   0.03 0.01 0.  ]\n",
      " [0.57 1.   1.   1.   1.   1.   0.  ]\n",
      " [0.12 0.   0.72 0.01 0.02 0.02 0.  ]\n",
      " [0.22 1.   0.66 0.94 0.07 0.04 0.02]\n",
      " [0.   0.   0.96 0.17 0.44 0.1  0.  ]]\n"
     ]
    }
   ],
   "source": [
    "import pandas as pd\n",
    "from sklearn.naive_bayes import GaussianNB\n",
    "from sklearn.model_selection import train_test_split as TTS\n",
    "\n",
    "data_feature_name =[\"HS_AGE\",\"VAS_AR_FLAG\",\"AVG_USAGE_DAYS\",\"AVG_BILL_AMT\",\"AVG_MINS\",\"AVG_CALL\",\"AVG_VAS_GAMES\"]\n",
    "data_features = data.iloc[:,:7].to_numpy()\n",
    "data_target = data.iloc[:,7].to_numpy()\n",
    "\n",
    "Xtrain, Xtest, Ytrain, Ytest = TTS(data_features, data_target, test_size=0.3, random_state=420)\n",
    "print(\"Xtrain\")\n",
    "print(Xtrain)\n",
    "print(\"Xtest\")\n",
    "print(Xtest)\n",
    "\n"
   ]
  },
  {
   "cell_type": "code",
   "execution_count": 39,
   "metadata": {
    "collapsed": false,
    "pycharm": {
     "name": "#%%\n"
    }
   },
   "outputs": [
    {
     "data": {
      "image/png": "[encoded data removed]",
      "text/plain": [
       "<IPython.core.display.Image object>"
      ]
     },
     "metadata": {},
     "output_type": "display_data"
    }
   ],
   "source": [
    "rgs = tree.DecisionTreeRegressor(max_depth=4)\n",
    "rgs = rgs.fit(Xtrain, Ytrain)\n",
    "import pydotplus\n",
    "from IPython.display import Image, display\n",
    "dot_data = tree.export_graphviz(rgs,\n",
    "                                # out_file = None,\n",
    "                                feature_names = data_feature_name,\n",
    "                                class_names = data_target,\n",
    "                                # filled = True,\n",
    "                                # rounded = True\n",
    "                               )\n",
    "graph = pydotplus.graph_from_dot_data(dot_data)\n",
    "display(Image(graph.create_png()))"
   ]
  },
  {
   "cell_type": "code",
   "execution_count": 40,
   "metadata": {},
   "outputs": [
    {
     "name": "stdout",
     "output_type": "stream",
     "text": [
      "==========================================\n",
      "测试准确率为:\n",
      "1.25\n",
      "==========================================\n"
     ]
    }
   ],
   "source": [
    "CUSTOMER_TYPE_test=np.array([[0.12,0, 0.72,0.01,0.02,0.02,0]])\n",
    "predict_result=rgs.predict(CUSTOMER_TYPE_test)\n",
    "# 0:yes 1:no\n",
    "print(\"==========================================\")\n",
    "print(\"测试准确率为:\")\n",
    "print(abs(rgs.score(Xtest, Ytest)))\n",
    "print(\"==========================================\")"
   ]
  },
  {
   "cell_type": "code",
   "execution_count": 41,
   "metadata": {},
   "outputs": [
    {
     "name": "stdout",
     "output_type": "stream",
     "text": [
      "==========================================\n",
      "测试数据[0.12,0, 0.72,0.01,0.02,0.02,0]\n",
      "分类结果CUSTOMER_TYPE=2G\n",
      "==========================================\n"
     ]
    }
   ],
   "source": [
    "print(\"==========================================\")\n",
    "print(\"测试数据[0.12,0, 0.72,0.01,0.02,0.02,0]\")\n",
    "if(predict_result[0]==1):\n",
    "    print(\"分类结果CUSTOMER_TYPE=2G\")\n",
    "else:\n",
    "    print(\"分类结果CUSTOMER_TYPE=3G\")\n",
    "print(\"==========================================\")"
   ]
  }
 ],
 "metadata": {
  "kernelspec": {
   "display_name": "Python 3.9.12 ('dm')",
   "language": "python",
   "name": "python3"
  },
  "language_info": {
   "codemirror_mode": {
    "name": "ipython",
    "version": 3
   },
   "file_extension": ".py",
   "mimetype": "text/x-python",
   "name": "python",
   "nbconvert_exporter": "python",
   "pygments_lexer": "ipython3",
   "version": "3.9.12"
  },
  "vscode": {
   "interpreter": {
    "hash": "e49990abf1690b5df77a203b898cc98e5cc37dac3a83ff32fc7baac03298ca9f"
   }
  }
 },
 "nbformat": 4,
 "nbformat_minor": 0
}
