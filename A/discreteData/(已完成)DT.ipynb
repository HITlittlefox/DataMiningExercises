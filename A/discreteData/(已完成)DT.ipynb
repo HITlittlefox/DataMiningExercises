{
 "cells": [
  {
   "cell_type": "code",
   "execution_count": 59,
   "metadata": {
    "collapsed": false,
    "pycharm": {
     "name": "#%%\n"
    }
   },
   "outputs": [
    {
     "data": {
      "text/html": [
       "<div>\n",
       "<style scoped>\n",
       "    .dataframe tbody tr th:only-of-type {\n",
       "        vertical-align: middle;\n",
       "    }\n",
       "\n",
       "    .dataframe tbody tr th {\n",
       "        vertical-align: top;\n",
       "    }\n",
       "\n",
       "    .dataframe thead th {\n",
       "        text-align: right;\n",
       "    }\n",
       "</style>\n",
       "<table border=\"1\" class=\"dataframe\">\n",
       "  <thead>\n",
       "    <tr style=\"text-align: right;\">\n",
       "      <th></th>\n",
       "      <th>age</th>\n",
       "      <th>income</th>\n",
       "      <th>student</th>\n",
       "      <th>credit_rating</th>\n",
       "      <th>buys_computer</th>\n",
       "    </tr>\n",
       "  </thead>\n",
       "  <tbody>\n",
       "    <tr>\n",
       "      <th>0</th>\n",
       "      <td>30</td>\n",
       "      <td>high</td>\n",
       "      <td>no</td>\n",
       "      <td>fair</td>\n",
       "      <td>no</td>\n",
       "    </tr>\n",
       "    <tr>\n",
       "      <th>1</th>\n",
       "      <td>30</td>\n",
       "      <td>high</td>\n",
       "      <td>no</td>\n",
       "      <td>excellent</td>\n",
       "      <td>no</td>\n",
       "    </tr>\n",
       "    <tr>\n",
       "      <th>2</th>\n",
       "      <td>3140</td>\n",
       "      <td>high</td>\n",
       "      <td>no</td>\n",
       "      <td>fair</td>\n",
       "      <td>yes</td>\n",
       "    </tr>\n",
       "    <tr>\n",
       "      <th>3</th>\n",
       "      <td>40</td>\n",
       "      <td>medium</td>\n",
       "      <td>no</td>\n",
       "      <td>fair</td>\n",
       "      <td>yes</td>\n",
       "    </tr>\n",
       "    <tr>\n",
       "      <th>4</th>\n",
       "      <td>40</td>\n",
       "      <td>low</td>\n",
       "      <td>yes</td>\n",
       "      <td>fair</td>\n",
       "      <td>yes</td>\n",
       "    </tr>\n",
       "  </tbody>\n",
       "</table>\n",
       "</div>"
      ],
      "text/plain": [
       "    age  income student credit_rating buys_computer\n",
       "0    30    high      no          fair            no\n",
       "1    30    high      no     excellent            no\n",
       "2  3140    high      no          fair           yes\n",
       "3    40  medium      no          fair           yes\n",
       "4    40     low     yes          fair           yes"
      ]
     },
     "execution_count": 59,
     "metadata": {},
     "output_type": "execute_result"
    }
   ],
   "source": [
    "\n",
    "import pandas as pd\n",
    "from sklearn.tree import DecisionTreeClassifier\n",
    "from sklearn.model_selection import train_test_split\n",
    "from sklearn.model_selection import GridSearchCV\n",
    "from sklearn.model_selection import cross_val_score\n",
    "import matplotlib.pyplot as plt\n",
    "# 导入决策树分类器\n",
    "from sklearn.tree import DecisionTreeClassifier\n",
    "# 导入分割数据集的方法\n",
    "from sklearn.model_selection import train_test_split\n",
    "# 导入科学计算包\n",
    "import numpy as np\n",
    "\n",
    "data = pd.read_csv(r\"C:\\Users\\96361\\iCloudDrive\\数据挖掘实践-胡仕成\\A\\discreteData\\Sampledata-discrete.CSV\",encoding='GBK')\n",
    "\n",
    "data.head()\n",
    "\n"
   ]
  },
  {
   "cell_type": "code",
   "execution_count": 62,
   "metadata": {},
   "outputs": [
    {
     "name": "stdout",
     "output_type": "stream",
     "text": [
      "<class 'pandas.core.frame.DataFrame'>\n",
      "RangeIndex: 22 entries, 0 to 21\n",
      "Data columns (total 5 columns):\n",
      " #   Column         Non-Null Count  Dtype \n",
      "---  ------         --------------  ----- \n",
      " 0   age            22 non-null     int64 \n",
      " 1   income         22 non-null     object\n",
      " 2   student        22 non-null     object\n",
      " 3   credit_rating  22 non-null     object\n",
      " 4   buys_computer  22 non-null     object\n",
      "dtypes: int64(1), object(4)\n",
      "memory usage: 1008.0+ bytes\n"
     ]
    }
   ],
   "source": [
    "data.info()"
   ]
  },
  {
   "cell_type": "code",
   "execution_count": 63,
   "metadata": {},
   "outputs": [
    {
     "name": "stdout",
     "output_type": "stream",
     "text": [
      "[[0 0 1 1]\n",
      " [0 0 1 0]\n",
      " [1 0 1 1]\n",
      " [2 1 1 1]\n",
      " [2 2 0 1]\n",
      " [2 2 0 0]\n",
      " [1 2 0 0]\n",
      " [0 1 1 1]\n",
      " [0 2 0 1]\n",
      " [2 1 0 1]\n",
      " [0 1 0 0]\n",
      " [1 1 1 0]\n",
      " [1 0 0 1]\n",
      " [2 1 1 0]\n",
      " [0 1 1 1]\n",
      " [0 2 0 0]\n",
      " [1 1 0 1]\n",
      " [1 0 1 0]\n",
      " [1 2 1 0]\n",
      " [2 2 0 0]\n",
      " [2 0 1 1]\n",
      " [1 1 1 1]]\n",
      "[1 1 0 0 0 1 0 1 0 0 0 0 0 1 1 0 0 0 0 0 1 0]\n"
     ]
    }
   ],
   "source": [
    "#将分类变量转换为数值型变量\n",
    "\n",
    "#将二分类变量转换为数值型变量\n",
    "#astype能够将一个pandas对象转换为某种类型，和apply(int(x))不同，astype可以将文本类转换为数字，用这个方式可以很便捷地将二分类特征转换为0~1\n",
    "data[\"student\"] = (data[\"student\"]== \"no\").astype(\"int\")\n",
    "data[\"buys_computer\"] = (data[\"buys_computer\"]== \"no\").astype(\"int\")\n",
    "data[\"credit_rating\"] = (data[\"credit_rating\"]== \"fair\").astype(\"int\")\n",
    "\n",
    "#将三分类变量转换为数值型变量\n",
    "labels = data[\"age\"].unique().tolist()\n",
    "data[\"age\"] = data[\"age\"].apply(lambda x: labels.index(x))\n",
    "\n",
    "labels2 = data[\"income\"].unique().tolist()\n",
    "data[\"income\"] = data[\"income\"].apply(lambda x: labels2.index(x))\n",
    "\n",
    "# #查看处理后的数据集\n",
    "data.head()\n",
    "X = data.iloc[:,data.columns != \"buys_computer\"]\n",
    "y = data.iloc[:,data.columns == \"buys_computer\"]\n",
    "X_train=data.iloc[:,:4].to_numpy()\n",
    "y_train=data.iloc[:,4].to_numpy()\n",
    "print(X_train)\n",
    "print(y_train)\n",
    "\n",
    "X_train,X_test,y_train,y_test=train_test_split(X_train,y_train,test_size=0.2,random_state=0)\n",
    "\n"
   ]
  },
  {
   "cell_type": "code",
   "execution_count": 64,
   "metadata": {},
   "outputs": [
    {
     "name": "stdout",
     "output_type": "stream",
     "text": [
      "DecisionTreeClassifier()\n"
     ]
    }
   ],
   "source": [
    "# 调用Gini算法\n",
    "tree_model=DecisionTreeClassifier(criterion=\"gini\")\n",
    "# 拟合\n",
    "print(tree_model.fit(X_train,y_train))"
   ]
  },
  {
   "cell_type": "code",
   "execution_count": 60,
   "metadata": {},
   "outputs": [
    {
     "name": "stdout",
     "output_type": "stream",
     "text": [
      "==========================================\n",
      "测试准确率为:\n",
      "0.6\n"
     ]
    }
   ],
   "source": [
    "# print(predict_result)\n",
    "# 0:yes 1:no\n",
    "print(\"==========================================\")\n",
    "print(\"测试准确率为:\")\n",
    "print(tree_model.score(X_test,y_test))"
   ]
  },
  {
   "cell_type": "code",
   "execution_count": 61,
   "metadata": {
    "collapsed": true,
    "pycharm": {
     "name": "#%%\n"
    }
   },
   "outputs": [
    {
     "name": "stdout",
     "output_type": "stream",
     "text": [
      "测试数据[31...40,medium,no,fair]\n",
      "分类结果buy_computers=yes\n",
      "==========================================\n"
     ]
    }
   ],
   "source": [
    "# 给出一组数据预测分类\n",
    "CUSTOMER_TYPE=np.array([[1,1,1,1]])\n",
    "predict_result=tree_model.predict(CUSTOMER_TYPE)\n",
    "print(\"测试数据[31...40,medium,no,fair]\")\n",
    "if(predict_result[0]==0):\n",
    "    print(\"分类结果buy_computers=yes\")\n",
    "else:\n",
    "    print(\"分类结果buy_computers=no\")\n",
    "print(\"==========================================\")\n"
   ]
  }
 ],
 "metadata": {
  "kernelspec": {
   "display_name": "Python 3.9.12 ('dm')",
   "language": "python",
   "name": "python3"
  },
  "language_info": {
   "codemirror_mode": {
    "name": "ipython",
    "version": 3
   },
   "file_extension": ".py",
   "mimetype": "text/x-python",
   "name": "python",
   "nbconvert_exporter": "python",
   "pygments_lexer": "ipython3",
   "version": "3.9.12"
  },
  "vscode": {
   "interpreter": {
    "hash": "e49990abf1690b5df77a203b898cc98e5cc37dac3a83ff32fc7baac03298ca9f"
   }
  }
 },
 "nbformat": 4,
 "nbformat_minor": 0
}
