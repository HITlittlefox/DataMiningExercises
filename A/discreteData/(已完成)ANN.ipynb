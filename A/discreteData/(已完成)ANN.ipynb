{
 "cells": [
  {
   "cell_type": "code",
   "execution_count": 1,
   "metadata": {},
   "outputs": [
    {
     "name": "stdout",
     "output_type": "stream",
     "text": [
      "     age  income student credit_rating buys_computer\n",
      "0     30    high      no          fair            no\n",
      "1     30    high      no     excellent            no\n",
      "2   3140    high      no          fair           yes\n",
      "3     40  medium      no          fair           yes\n",
      "4     40     low     yes          fair           yes\n",
      "5     40     low     yes     excellent            no\n",
      "6   3140     low     yes     excellent           yes\n",
      "7     30  medium      no          fair            no\n",
      "8     30     low     yes          fair           yes\n",
      "9     40  medium     yes          fair           yes\n",
      "10    30  medium     yes     excellent           yes\n",
      "11  3140  medium      no     excellent           yes\n",
      "12  3140    high     yes          fair           yes\n",
      "13    40  medium      no     excellent            no\n",
      "14    30  medium      no          fair            no\n",
      "15    30     low     yes     excellent           yes\n",
      "16  3140  medium     yes          fair           yes\n",
      "17  3140    high      no     excellent           yes\n",
      "18  3140     low      no     excellent           yes\n",
      "19    40     low     yes     excellent           yes\n",
      "20    40    high      no          fair            no\n",
      "21  3140  medium      no          fair             ?\n"
     ]
    }
   ],
   "source": [
    "\n",
    "import pandas as pd\n",
    "from sklearn.tree import DecisionTreeClassifier\n",
    "from sklearn.model_selection import train_test_split\n",
    "from sklearn.model_selection import GridSearchCV\n",
    "from sklearn.model_selection import cross_val_score\n",
    "import matplotlib.pyplot as plt\n",
    "# data = pd.read_csv(r\"C:\\Users\\96361\\Desktop\\selflearning\\github\\Machine-Learning\\01 决策树课件数据源码\\data.csv\",index_col = 0)\n",
    "data = pd.read_csv(r\"C:\\Users\\96361\\iCloudDrive\\数据挖掘实践-胡仕成\\A\\discreteData\\Sampledata-discrete.CSV\",encoding='GBK')\n",
    "\n",
    "print(data)\n",
    "# data.head()\n",
    "# data.info()"
   ]
  },
  {
   "cell_type": "code",
   "execution_count": 2,
   "metadata": {
    "collapsed": false,
    "pycharm": {
     "name": "#%%\n"
    }
   },
   "outputs": [
    {
     "name": "stdout",
     "output_type": "stream",
     "text": [
      "[[0 0 1 1]\n",
      " [0 0 1 0]\n",
      " [1 0 1 1]\n",
      " [2 1 1 1]\n",
      " [2 2 0 1]\n",
      " [2 2 0 0]\n",
      " [1 2 0 0]\n",
      " [0 1 1 1]\n",
      " [0 2 0 1]\n",
      " [2 1 0 1]\n",
      " [0 1 0 0]\n",
      " [1 1 1 0]\n",
      " [1 0 0 1]\n",
      " [2 1 1 0]\n",
      " [0 1 1 1]\n",
      " [0 2 0 0]\n",
      " [1 1 0 1]\n",
      " [1 0 1 0]\n",
      " [1 2 1 0]\n",
      " [2 2 0 0]\n",
      " [2 0 1 1]\n",
      " [1 1 1 1]]\n",
      "[1 1 0 0 0 1 0 1 0 0 0 0 0 1 1 0 0 0 0 0 1 0]\n"
     ]
    }
   ],
   "source": [
    "import numpy as np\n",
    "from sklearn.neural_network import MLPClassifier as DNN\n",
    "from sklearn.metrics import accuracy_score\n",
    "from sklearn.model_selection import cross_val_score as cv\n",
    "import matplotlib.pyplot as plt\n",
    "from sklearn.datasets import load_breast_cancer\n",
    "from sklearn.tree import DecisionTreeClassifier as DTC\n",
    "from sklearn.model_selection import train_test_split as TTS\n",
    "from time import time\n",
    "import datetime\n",
    "#将分类变量转换为数值型变量\n",
    "#将二分类变量转换为数值型变量\n",
    "#astype能够将一个pandas对象转换为某种类型，和apply(int(x))不同，astype可以将文本类转换为数字，用这个方式可以很便捷地将二分类特征转换为0~1\n",
    "data[\"student\"] = (data[\"student\"]== \"no\").astype(\"int\")\n",
    "data[\"buys_computer\"] = (data[\"buys_computer\"]== \"no\").astype(\"int\")\n",
    "data[\"credit_rating\"] = (data[\"credit_rating\"]== \"fair\").astype(\"int\")\n",
    "\n",
    "#将三分类变量转换为数值型变量\n",
    "labels = data[\"age\"].unique().tolist()\n",
    "data[\"age\"] = data[\"age\"].apply(lambda x: labels.index(x))\n",
    "\n",
    "labels2 = data[\"income\"].unique().tolist()\n",
    "data[\"income\"] = data[\"income\"].apply(lambda x: labels2.index(x))\n",
    "\n",
    "# #查看处理后的数据集\n",
    "# data.head()\n",
    "X = data.iloc[:,data.columns != \"buys_computer\"]\n",
    "y = data.iloc[:,data.columns == \"buys_computer\"]\n",
    "\n",
    "X_train=data.iloc[:,:4].to_numpy()\n",
    "y_train=data.iloc[:,4].to_numpy()\n",
    "print(X_train)\n",
    "print(y_train)\n",
    "# data = load_breast_cancer()\n",
    "# X = data.data\n",
    "# y = data.target\n",
    "Xtrain, Xtest, Ytrain, Ytest = TTS(X_train,y_train,test_size=0.3,random_state=420)\n",
    "\n",
    "Xtest_extra=[[1,1,1,1]]\n",
    "Ytest_extra=[[1]]\n",
    "# print(Ytest)\n"
   ]
  },
  {
   "cell_type": "code",
   "execution_count": 3,
   "metadata": {},
   "outputs": [
    {
     "name": "stderr",
     "output_type": "stream",
     "text": [
      "c:\\ProgramData\\Anaconda3\\envs\\dm\\lib\\site-packages\\sklearn\\neural_network\\_multilayer_perceptron.py:692: ConvergenceWarning: Stochastic Optimizer: Maximum iterations (200) reached and the optimization hasn't converged yet.\n",
      "  warnings.warn(\n"
     ]
    }
   ],
   "source": [
    "times = time()\n",
    "times = time()\n",
    "dnn = DNN(hidden_layer_sizes=(100,),random_state=420).fit(Xtrain,Ytrain)\n",
    "# print(dnn.score)\n"
   ]
  },
  {
   "cell_type": "code",
   "execution_count": 4,
   "metadata": {
    "collapsed": false,
    "pycharm": {
     "name": "#%%\n"
    }
   },
   "outputs": [
    {
     "name": "stdout",
     "output_type": "stream",
     "text": [
      "==========================================\n",
      "准确率为： 0.7142857142857143\n",
      "==========================================\n"
     ]
    }
   ],
   "source": [
    "#使用重要参数n_layers_，得出层数\n",
    "# print(\"n_layers_：\",dnn.n_layers_)\n",
    "\n",
    "print(\"==========================================\")\n",
    "print(\"准确率为：\",dnn.score(Xtest,Ytest))\n",
    "\n",
    "print(\"==========================================\")"
   ]
  },
  {
   "cell_type": "code",
   "execution_count": 5,
   "metadata": {},
   "outputs": [
    {
     "name": "stdout",
     "output_type": "stream",
     "text": [
      "==========================================\n",
      "测试数据[31...40,medium,no,fair]\n",
      "buys_computer的预测结果:no\n",
      "==========================================\n"
     ]
    }
   ],
   "source": [
    "print(\"==========================================\")\n",
    "print(\"测试数据[31...40,medium,no,fair]\")\n",
    "if(dnn.score(Xtest_extra,Ytest_extra)==1.0):\n",
    "    print(\"buys_computer的预测结果:no\")\n",
    "    # 0:yes 1:no\n",
    "else:\n",
    "    print(\"buys_computer的预测结果：yes\")\n",
    "print(\"==========================================\")\n",
    "    "
   ]
  }
 ],
 "metadata": {
  "kernelspec": {
   "display_name": "Python 3.9.12 ('dm')",
   "language": "python",
   "name": "python3"
  },
  "language_info": {
   "codemirror_mode": {
    "name": "ipython",
    "version": 3
   },
   "file_extension": ".py",
   "mimetype": "text/x-python",
   "name": "python",
   "nbconvert_exporter": "python",
   "pygments_lexer": "ipython3",
   "version": "3.9.12"
  },
  "vscode": {
   "interpreter": {
    "hash": "e49990abf1690b5df77a203b898cc98e5cc37dac3a83ff32fc7baac03298ca9f"
   }
  }
 },
 "nbformat": 4,
 "nbformat_minor": 0
}
