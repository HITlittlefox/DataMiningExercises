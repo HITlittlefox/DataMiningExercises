{
 "cells": [
  {
   "cell_type": "code",
   "execution_count": 74,
   "metadata": {
    "collapsed": false,
    "pycharm": {
     "name": "#%%\n"
    }
   },
   "outputs": [
    {
     "name": "stdout",
     "output_type": "stream",
     "text": [
      "[[0 0 1 1]\n",
      " [0 0 1 0]\n",
      " [1 0 1 1]\n",
      " [2 1 1 1]\n",
      " [2 2 0 1]\n",
      " [2 2 0 0]\n",
      " [1 2 0 0]\n",
      " [0 1 1 1]\n",
      " [0 2 0 1]\n",
      " [2 1 0 1]\n",
      " [0 1 0 0]\n",
      " [1 1 1 0]\n",
      " [1 0 0 1]\n",
      " [2 1 1 0]\n",
      " [0 1 1 1]\n",
      " [0 2 0 0]\n",
      " [1 1 0 1]\n",
      " [1 0 1 0]\n",
      " [1 2 1 0]\n",
      " [2 2 0 0]\n",
      " [2 0 1 1]\n",
      " [1 1 1 1]]\n",
      "[1 1 0 0 0 1 0 1 0 0 0 0 0 1 1 0 0 0 0 0 1 0]\n"
     ]
    }
   ],
   "source": [
    "\n",
    "import pandas as pd\n",
    "from sklearn.tree import DecisionTreeClassifier\n",
    "from sklearn.model_selection import train_test_split\n",
    "from sklearn.model_selection import GridSearchCV\n",
    "from sklearn.model_selection import cross_val_score\n",
    "import matplotlib.pyplot as plt\n",
    "# data = pd.read_csv(r\"C:\\Users\\96361\\Desktop\\selflearning\\github\\Machine-Learning\\01 决策树课件数据源码\\data.csv\",index_col = 0)\n",
    "data = pd.read_csv(r\"C:\\Users\\96361\\iCloudDrive\\数据挖掘实践-胡仕成\\A\\discreteData\\Sampledata-discrete.CSV\",encoding='GBK')\n",
    "\n",
    "# data.head()\n",
    "# data.info()\n",
    "#将分类变量转换为数值型变量\n",
    "\n",
    "#将二分类变量转换为数值型变量\n",
    "#astype能够将一个pandas对象转换为某种类型，和apply(int(x))不同，astype可以将文本类转换为数字，用这个方式可以很便捷地将二分类特征转换为0~1\n",
    "data[\"student\"] = (data[\"student\"]== \"no\").astype(\"int\")\n",
    "data[\"buys_computer\"] = (data[\"buys_computer\"]== \"no\").astype(\"int\")\n",
    "data[\"credit_rating\"] = (data[\"credit_rating\"]== \"fair\").astype(\"int\")\n",
    "\n",
    "#将三分类变量转换为数值型变量\n",
    "labels = data[\"age\"].unique().tolist()\n",
    "data[\"age\"] = data[\"age\"].apply(lambda x: labels.index(x))\n",
    "\n",
    "labels2 = data[\"income\"].unique().tolist()\n",
    "data[\"income\"] = data[\"income\"].apply(lambda x: labels2.index(x))\n",
    "\n",
    "# #查看处理后的数据集\n",
    "data.head()\n",
    "X = data.iloc[:,data.columns != \"buys_computer\"]\n",
    "y = data.iloc[:,data.columns == \"buys_computer\"]\n",
    "# print(data)\n",
    "# print(data[\"age\"])\n",
    "print(data.iloc[:,:4].to_numpy())\n",
    "print(data.iloc[:,4].to_numpy())"
   ]
  },
  {
   "cell_type": "code",
   "execution_count": 75,
   "metadata": {
    "collapsed": false,
    "pycharm": {
     "name": "#%%\n"
    }
   },
   "outputs": [
    {
     "name": "stdout",
     "output_type": "stream",
     "text": [
      "[[1 1 1 1]\n",
      " [1 1 1 0]\n",
      " [2 2 0 0]\n",
      " [0 2 0 1]\n",
      " [1 2 0 0]\n",
      " [1 1 0 1]\n",
      " [2 2 0 1]\n",
      " [1 0 1 1]\n",
      " [2 2 0 0]\n",
      " [1 0 1 0]\n",
      " [2 1 0 1]\n",
      " [0 1 1 1]\n",
      " [1 2 1 0]\n",
      " [2 1 1 1]\n",
      " [0 0 1 1]\n",
      " [0 2 0 0]\n",
      " [1 0 0 1]] <class 'numpy.ndarray'>\n",
      "[[2 0 1 1]\n",
      " [0 1 0 0]\n",
      " [0 1 1 1]\n",
      " [2 1 1 0]\n",
      " [0 0 1 0]] <class 'numpy.ndarray'>\n"
     ]
    }
   ],
   "source": [
    "from sklearn.naive_bayes import GaussianNB\n",
    "import numpy as np\n",
    "# X=np.array(data.iloc[:,:4])\n",
    "# X = np.array([[-1, -1], [-2, -1], [-3, -2], [1, 1], [2, 1], [3, 2]])\n",
    "# Y = np.array([1, 1, 1, 2, 2, 2])\n",
    "# print(X,type(X))\n",
    "# print(Y,type(Y))\n",
    "X_train=data.iloc[:,:4].to_numpy()\n",
    "y_train=data.iloc[:,4].to_numpy()\n",
    "X_train,X_test,y_train,y_test=train_test_split(X_train,y_train,test_size=0.2,random_state=0)\n",
    "\n",
    "print(X_train,type(X_train))\n",
    "print(X_test,type(X_test))\n"
   ]
  },
  {
   "cell_type": "code",
   "execution_count": 76,
   "metadata": {},
   "outputs": [
    {
     "data": {
      "text/plain": [
       "GaussianNB()"
      ]
     },
     "execution_count": 76,
     "metadata": {},
     "output_type": "execute_result"
    }
   ],
   "source": [
    "clf = GaussianNB()\n",
    "# 拟合数据\n",
    "clf.fit(X_train, y_train)\n"
   ]
  },
  {
   "cell_type": "code",
   "execution_count": 77,
   "metadata": {},
   "outputs": [
    {
     "name": "stdout",
     "output_type": "stream",
     "text": [
      "==========================================\n",
      "测试准确率为:\n",
      "0.6\n",
      "==========================================\n"
     ]
    }
   ],
   "source": [
    "print(\"==========================================\")\n",
    "print(\"测试准确率为:\")\n",
    "print(clf.score(X_test, y_test))\n",
    "print(\"==========================================\")"
   ]
  },
  {
   "cell_type": "code",
   "execution_count": 78,
   "metadata": {},
   "outputs": [
    {
     "name": "stdout",
     "output_type": "stream",
     "text": [
      "==========================================\n",
      "测试数据[31...40,medium,no,fair]\n",
      "分类结果buy_computers=yes\n",
      "==========================================\n"
     ]
    }
   ],
   "source": [
    "print(\"==========================================\")\n",
    "print(\"测试数据[31...40,medium,no,fair]\")\n",
    "# 0:yes 1:no\n",
    "if(clf.predict([[1,1,1,1]])[0]==0):\n",
    "    print(\"分类结果buy_computers=yes\")\n",
    "else:\n",
    "    print(\"分类结果buy_computers=no\")\n",
    "print(\"==========================================\")\n"
   ]
  }
 ],
 "metadata": {
  "kernelspec": {
   "display_name": "Python 3.9.12 ('dm')",
   "language": "python",
   "name": "python3"
  },
  "language_info": {
   "codemirror_mode": {
    "name": "ipython",
    "version": 3
   },
   "file_extension": ".py",
   "mimetype": "text/x-python",
   "name": "python",
   "nbconvert_exporter": "python",
   "pygments_lexer": "ipython3",
   "version": "3.9.12"
  },
  "orig_nbformat": 4,
  "vscode": {
   "interpreter": {
    "hash": "e49990abf1690b5df77a203b898cc98e5cc37dac3a83ff32fc7baac03298ca9f"
   }
  }
 },
 "nbformat": 4,
 "nbformat_minor": 2
}
